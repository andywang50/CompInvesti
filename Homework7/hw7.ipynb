{
 "cells": [
  {
   "cell_type": "code",
   "execution_count": 8,
   "metadata": {
    "collapsed": true
   },
   "outputs": [],
   "source": [
    "import pandas as pd\n",
    "import numpy as np\n",
    "import math\n",
    "import copy\n",
    "import QSTK.qstkutil.qsdateutil as du\n",
    "import datetime as dt\n",
    "import QSTK.qstkutil.DataAccess as da\n",
    "import QSTK.qstkutil.tsutil as tsu\n",
    "import QSTK.qstkstudy.EventProfiler as ep\n",
    "import matplotlib.pyplot as plt\n",
    "import bollinger\n",
    "import performance\n",
    "\n",
    "symbol_txt_file = 'sp5002012'\n",
    "\n",
    "\n",
    "dt_start = dt.datetime(2008, 2, 25)\n",
    "dt_end = dt.datetime(2009, 12, 31)\n",
    "ldt_timestamps = du.getNYSEdays(dt_start, dt_end, dt.timedelta(hours=16))\n",
    "\n",
    "dataobj = da.DataAccess('Yahoo')\n",
    "ls_symbols = dataobj.get_symbols_from_list(symbol_txt_file)\n",
    "\n",
    "ls_symbols.append('SPY')\n",
    "\n",
    "ls_keys = ['open', 'high', 'low', 'close', 'volume', 'actual_close']\n",
    "ldf_data = dataobj.get_data(ldt_timestamps, ls_symbols, ls_keys)\n",
    "d_data = dict(zip(ls_keys, ldf_data))\n",
    "\n",
    "for s_key in ls_keys:\n",
    "    d_data[s_key] = d_data[s_key].fillna(method='ffill')\n",
    "    d_data[s_key] = d_data[s_key].fillna(method='bfill')\n",
    "    d_data[s_key] = d_data[s_key].fillna(1.0)\n",
    "\n",
    "df_close = d_data['actual_close']\n",
    "\n"
   ]
  },
  {
   "cell_type": "code",
   "execution_count": 9,
   "metadata": {
    "collapsed": false
   },
   "outputs": [],
   "source": [
    "lookback = 20\n",
    "unit_of_std = 1.0\n",
    "df_indicator = df_close.copy()\n",
    "for sym in ls_symbols:\n",
    "    df_indicator[sym] = bollinger.bollinger_indicator(df_close[sym],lookback,unit_of_std)"
   ]
  },
  {
   "cell_type": "code",
   "execution_count": 10,
   "metadata": {
    "collapsed": false
   },
   "outputs": [
    {
     "name": "stderr",
     "output_type": "stream",
     "text": [
      "/Users/andy/anaconda/envs/py27/lib/python2.7/site-packages/ipykernel_launcher.py:12: DeprecationWarning: \n",
      ".ix is deprecated. Please use\n",
      ".loc for label based indexing or\n",
      ".iloc for positional indexing\n",
      "\n",
      "See the documentation here:\n",
      "http://pandas.pydata.org/pandas-docs/stable/indexing.html#ix-indexer-is-deprecated\n",
      "  if sys.path[0] == '':\n",
      "/Users/andy/anaconda/envs/py27/lib/python2.7/site-packages/ipykernel_launcher.py:14: DeprecationWarning: \n",
      ".ix is deprecated. Please use\n",
      ".loc for label based indexing or\n",
      ".iloc for positional indexing\n",
      "\n",
      "See the documentation here:\n",
      "http://pandas.pydata.org/pandas-docs/stable/indexing.html#ix-indexer-is-deprecated\n",
      "  \n"
     ]
    }
   ],
   "source": [
    "order_filename = 'orders.csv'\n",
    "orders = pd.DataFrame({'year': [], 'month': [],'date':[],'sym':[],'type':[],'shares':[],'crap':[]})\n",
    "orders = orders[['year','month','date','sym','type','shares','crap']]\n",
    "num_trades = 0\n",
    "orders.loc[num_trades] = [str(ldt_timestamps[0].year),str(ldt_timestamps[0].month),str(ldt_timestamps[0].day),\n",
    "                          ls_symbols[0],'Buy','0','0']\n",
    "num_trades += 1\n",
    "for i in range(lookback-1, len(ldt_timestamps)):    \n",
    "    for s_sym in ls_symbols:\n",
    "        # Calculating the returns for this timestamp\n",
    "        # Event is found if the symbol price is greater than $5 yesterday but less than $5 today\n",
    "        indicator_today = df_indicator[s_sym].ix[ldt_timestamps[i]]\n",
    "        indicator_yest = df_indicator[s_sym].ix[ldt_timestamps[i-1]]\n",
    "        indicator_today_SPY = df_indicator['SPY'].ix[ldt_timestamps[i]]\n",
    "        if indicator_today <=-2.0 and indicator_yest >= -2.0 and indicator_today_SPY>=1.0:\n",
    "            date = ldt_timestamps[i]\n",
    "            date_Sell = ldt_timestamps[min(i+5,len(ldt_timestamps)-1)]\n",
    "            orders.loc[num_trades] = [str(date.year),str(date.month),str(date.day),s_sym,'Buy','100','0']\n",
    "            orders.loc[num_trades+1] = [str(date_Sell.year),str(date_Sell.month),str(date_Sell.day),s_sym,'Sell','100','0']\n",
    "            num_trades = num_trades + 2\n",
    "            \n",
    "orders.loc[num_trades] = [str(ldt_timestamps[-1].year),str(ldt_timestamps[-1].month),str(ldt_timestamps[-1].day),\n",
    "                          ls_symbols[0],'Buy','0','0']\n"
   ]
  },
  {
   "cell_type": "code",
   "execution_count": 11,
   "metadata": {
    "collapsed": true
   },
   "outputs": [],
   "source": [
    "orders.to_csv(order_filename,header=False,index=False)"
   ]
  },
  {
   "cell_type": "code",
   "execution_count": 12,
   "metadata": {
    "collapsed": false
   },
   "outputs": [
    {
     "name": "stdout",
     "output_type": "stream",
     "text": [
      "Our portfolio:\n",
      "('mean return:', 0.00019867132407117634)\n",
      "('std return:', 0.0042428055925627563)\n",
      "('sharpe ratio', 0.74333113502109371)\n",
      "('cumulative return', 1.0928499999999988)\n",
      "\n",
      "Market:\n",
      "('mean return:', -7.4914475637101409e-05)\n",
      "('std return:', 0.022450468217593618)\n",
      "('sharpe ratio', -0.052971297581914469)\n",
      "('cumulative return', 0.85848905925570929)\n"
     ]
    },
    {
     "data": {
      "image/png": "[encoded data removed]",
      "text/plain": [
       "<matplotlib.figure.Figure at 0x10aaadd90>"
      ]
     },
     "metadata": {},
     "output_type": "display_data"
    }
   ],
   "source": [
    "result = performance.performance(order_filename,'SPY',100000)\n",
    "result.draw()"
   ]
  },
  {
   "cell_type": "code",
   "execution_count": null,
   "metadata": {
    "collapsed": true
   },
   "outputs": [],
   "source": []
  }
 ],
 "metadata": {
  "kernelspec": {
   "display_name": "Python 2",
   "language": "python",
   "name": "python2"
  },
  "language_info": {
   "codemirror_mode": {
    "name": "ipython",
    "version": 2
   },
   "file_extension": ".py",
   "mimetype": "text/x-python",
   "name": "python",
   "nbconvert_exporter": "python",
   "pygments_lexer": "ipython2",
   "version": "2.7.13"
  }
 },
 "nbformat": 4,
 "nbformat_minor": 2
}
