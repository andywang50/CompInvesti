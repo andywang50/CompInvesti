{
 "cells": [
  {
   "cell_type": "code",
   "execution_count": 9,
   "metadata": {
    "collapsed": false
   },
   "outputs": [
    {
     "name": "stdout",
     "output_type": "stream",
     "text": [
      "Finding Events\n"
     ]
    },
    {
     "name": "stderr",
     "output_type": "stream",
     "text": [
      "/Users/andy/anaconda/envs/py27/lib/python2.7/site-packages/ipykernel_launcher.py:60: DeprecationWarning: \n",
      ".ix is deprecated. Please use\n",
      ".loc for label based indexing or\n",
      ".iloc for positional indexing\n",
      "\n",
      "See the documentation here:\n",
      "http://pandas.pydata.org/pandas-docs/stable/indexing.html#ix-indexer-is-deprecated\n",
      "/Users/andy/anaconda/envs/py27/lib/python2.7/site-packages/ipykernel_launcher.py:61: DeprecationWarning: \n",
      ".ix is deprecated. Please use\n",
      ".loc for label based indexing or\n",
      ".iloc for positional indexing\n",
      "\n",
      "See the documentation here:\n",
      "http://pandas.pydata.org/pandas-docs/stable/indexing.html#ix-indexer-is-deprecated\n"
     ]
    }
   ],
   "source": [
    "'''\n",
    "(c) 2011, 2012 Georgia Tech Research Corporation\n",
    "This source code is released under the New BSD license.  Please see\n",
    "http://wiki.quantsoftware.org/index.php?title=QSTK_License\n",
    "for license details.\n",
    "\n",
    "Created on January, 23, 2013\n",
    "\n",
    "@author: Sourabh Bajaj\n",
    "@contact: sourabhbajaj@gatech.edu\n",
    "@summary: Event Profiler Tutorial\n",
    "'''\n",
    "\n",
    "\n",
    "import pandas as pd\n",
    "import numpy as np\n",
    "import math\n",
    "import copy\n",
    "import QSTK.qstkutil.qsdateutil as du\n",
    "import datetime as dt\n",
    "import QSTK.qstkutil.DataAccess as da\n",
    "import QSTK.qstkutil.tsutil as tsu\n",
    "import QSTK.qstkstudy.EventProfiler as ep\n",
    "\n",
    "\"\"\"\n",
    "Accepts a list of symbols along with start and end date\n",
    "Returns the Event Matrix which is a pandas Datamatrix\n",
    "Event matrix has the following structure :\n",
    "    |IBM |GOOG|XOM |MSFT| GS | JP |\n",
    "(d1)|nan |nan | 1  |nan |nan | 1  |\n",
    "(d2)|nan | 1  |nan |nan |nan |nan |\n",
    "(d3)| 1  |nan | 1  |nan | 1  |nan |\n",
    "(d4)|nan |  1 |nan | 1  |nan |nan |\n",
    "...................................\n",
    "...................................\n",
    "Also, d1 = start date\n",
    "nan = no information about any event.\n",
    "1 = status bit(positively confirms the event occurence)\n",
    "\"\"\"\n",
    "\n",
    "\n",
    "def find_events(ls_symbols, d_data):\n",
    "    ''' Finding the event dataframe '''\n",
    "    df_close = d_data['actual_close']\n",
    "    ts_market = df_close['SPY']\n",
    "\n",
    "    print \"Finding Events\"\n",
    "\n",
    "    # Creating an empty dataframe\n",
    "    df_events = copy.deepcopy(df_close)\n",
    "    df_events = df_events * np.NAN\n",
    "\n",
    "    # Time stamps for the event range\n",
    "    ldt_timestamps = df_close.index\n",
    "\n",
    "    for s_sym in ls_symbols:\n",
    "        for i in range(1, len(ldt_timestamps)):\n",
    "            # Calculating the returns for this timestamp\n",
    "            # Event is found if the symbol price is greater than $5 yesterday but less than $5 today\n",
    "            if df_close[s_sym].ix[ldt_timestamps[i-1]] >=5 and df_close[s_sym].ix[ldt_timestamps[i]] <5:\n",
    "                df_events[s_sym].ix[ldt_timestamps[i]] = 1\n",
    "\n",
    "    return df_events\n",
    "\n",
    "symbol_txt_file = 'sp5002008'\n",
    "#symbol_txt_file = 'sp5002012'\n",
    "\n",
    "\n",
    "dt_start = dt.datetime(2008, 1, 1)\n",
    "dt_end = dt.datetime(2009, 12, 31)\n",
    "ldt_timestamps = du.getNYSEdays(dt_start, dt_end, dt.timedelta(hours=16))\n",
    "\n",
    "dataobj = da.DataAccess('Yahoo')\n",
    "ls_symbols = dataobj.get_symbols_from_list(symbol_txt_file)\n",
    "\n",
    "ls_symbols.append('SPY')\n",
    "\n",
    "ls_keys = ['open', 'high', 'low', 'close', 'volume', 'actual_close']\n",
    "ldf_data = dataobj.get_data(ldt_timestamps, ls_symbols, ls_keys)\n",
    "d_data = dict(zip(ls_keys, ldf_data))\n",
    "\n",
    "for s_key in ls_keys:\n",
    "    d_data[s_key] = d_data[s_key].fillna(method='ffill')\n",
    "    d_data[s_key] = d_data[s_key].fillna(method='bfill')\n",
    "    d_data[s_key] = d_data[s_key].fillna(1.0)\n",
    "\n",
    "df_events = find_events(ls_symbols, d_data)"
   ]
  },
  {
   "cell_type": "code",
   "execution_count": 10,
   "metadata": {
    "collapsed": false
   },
   "outputs": [
    {
     "name": "stdout",
     "output_type": "stream",
     "text": [
      "Creating Study\n"
     ]
    }
   ],
   "source": [
    "reload(ep)\n",
    "print \"Creating Study\"\n",
    "ep.eventprofiler(df_events, d_data, i_lookback=20, i_lookforward=20,\n",
    "            s_filename=symbol_txt_file+'EventStudy.pdf', b_market_neutral=True, b_errorbars=True,\n",
    "            s_market_sym='SPY')\n",
    "# i_lookback : how many days before the event should we look\n",
    "# i_lookforward: how many days after the event should we look\n",
    "# if a event happens at the first i_lookback(e.g.20) days or the last i_lookforward(e.g.20) days, this event will be ignored\n",
    "# b_market_neutral: subtract what happens to the market from our price, just let it be true\n",
    "# s_market_sym: what is the market index. can be some ETF."
   ]
  },
  {
   "cell_type": "code",
   "execution_count": null,
   "metadata": {
    "collapsed": false
   },
   "outputs": [],
   "source": []
  },
  {
   "cell_type": "code",
   "execution_count": null,
   "metadata": {
    "collapsed": true
   },
   "outputs": [],
   "source": []
  }
 ],
 "metadata": {
  "kernelspec": {
   "display_name": "Python 2",
   "language": "python",
   "name": "python2"
  },
  "language_info": {
   "codemirror_mode": {
    "name": "ipython",
    "version": 2
   },
   "file_extension": ".py",
   "mimetype": "text/x-python",
   "name": "python",
   "nbconvert_exporter": "python",
   "pygments_lexer": "ipython2",
   "version": "2.7.13"
  }
 },
 "nbformat": 4,
 "nbformat_minor": 2
}
