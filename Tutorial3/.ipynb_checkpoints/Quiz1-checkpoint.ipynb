{
 "cells": [
  {
   "cell_type": "code",
   "execution_count": 1,
   "metadata": {
    "collapsed": true
   },
   "outputs": [],
   "source": [
    "import numpy as np\n",
    "import QSTK.qstkutil.qsdateutil as du\n",
    "import QSTK.qstkutil.tsutil as tsu\n",
    "import QSTK.qstkutil.DataAccess as da\n",
    "\n",
    "import datetime as dt\n",
    "import matplotlib.pyplot as plt\n",
    "import pandas as pd\n",
    "\n"
   ]
  },
  {
   "cell_type": "code",
   "execution_count": 2,
   "metadata": {
    "collapsed": false
   },
   "outputs": [
    {
     "name": "stdout",
     "output_type": "stream",
     "text": [
      "[('SPY',  0.30000001) ('GABBA',  0.2       ) ('GLD',  0.30000001)\n",
      " ('7ABBA',  0.2       )]\n"
     ]
    }
   ],
   "source": [
    "na_portfolio = np.loadtxt('tutorial3portfolio.csv', dtype='S5,f4',\n",
    "                        delimiter=',', comments=\"#\", skiprows=1)\n",
    "print na_portfolio"
   ]
  },
  {
   "cell_type": "code",
   "execution_count": 3,
   "metadata": {
    "collapsed": false
   },
   "outputs": [
    {
     "name": "stdout",
     "output_type": "stream",
     "text": [
      "[('7ABBA',  0.2), ('GABBA',  0.2), ('GLD',  0.30000001), ('SPY',  0.30000001)]\n"
     ]
    }
   ],
   "source": [
    "na_portfolio = sorted(na_portfolio, key=lambda x: x[0])\n",
    "print na_portfolio"
   ]
  },
  {
   "cell_type": "code",
   "execution_count": 4,
   "metadata": {
    "collapsed": true
   },
   "outputs": [],
   "source": [
    "ls_port_syms = []\n",
    "lf_port_alloc = []\n",
    "for port in na_portfolio:\n",
    "    ls_port_syms.append(port[0])\n",
    "    lf_port_alloc.append(port[1])"
   ]
  },
  {
   "cell_type": "code",
   "execution_count": 5,
   "metadata": {
    "collapsed": true
   },
   "outputs": [],
   "source": [
    "c_dataobj = da.DataAccess('Yahoo')\n",
    "ls_all_syms = c_dataobj.get_all_symbols()\n",
    "ls_bad_syms = list(set(ls_port_syms) - set(ls_all_syms))\n",
    "\n",
    "## This part removes bad symbols (7ABBA,GABBA) from our portfolio"
   ]
  },
  {
   "cell_type": "code",
   "execution_count": 6,
   "metadata": {
    "collapsed": false
   },
   "outputs": [
    {
     "name": "stdout",
     "output_type": "stream",
     "text": [
      "Portfolio contains bad symbols :  ['7ABBA', 'GABBA']\n"
     ]
    }
   ],
   "source": [
    "if len(ls_bad_syms) != 0:\n",
    "        print \"Portfolio contains bad symbols : \", ls_bad_syms"
   ]
  },
  {
   "cell_type": "code",
   "execution_count": 7,
   "metadata": {
    "collapsed": true
   },
   "outputs": [],
   "source": [
    "for s_sym in ls_bad_syms:\n",
    "    i_index = ls_port_syms.index(s_sym)\n",
    "    ls_port_syms.pop(i_index)\n",
    "    lf_port_alloc.pop(i_index)"
   ]
  },
  {
   "cell_type": "code",
   "execution_count": 8,
   "metadata": {
    "collapsed": true
   },
   "outputs": [],
   "source": [
    "dt_end = dt.datetime(2011, 1, 1)\n",
    "dt_start = dt_end - dt.timedelta(days=1095)  # Three years\n",
    "dt_timeofday = dt.timedelta(hours=16)\n",
    "\n",
    "ldt_timestamps = du.getNYSEdays(dt_start, dt_end, dt_timeofday)\n",
    "\n",
    "ls_keys = ['open', 'high', 'low', 'close', 'volume', 'actual_close']\n",
    "\n",
    "ldf_data = c_dataobj.get_data(ldt_timestamps, ls_port_syms, ls_keys)\n",
    "d_data = dict(zip(ls_keys, ldf_data))"
   ]
  },
  {
   "cell_type": "code",
   "execution_count": 9,
   "metadata": {
    "collapsed": false
   },
   "outputs": [
    {
     "data": {
      "text/plain": [
       "array([[ 0.        ,  0.        ],\n",
       "       [ 0.00836672, -0.00045403],\n",
       "       [-0.00514199, -0.02452873],\n",
       "       ..., \n",
       "       [ 0.00357091,  0.00073728],\n",
       "       [-0.00493791, -0.00155534],\n",
       "       [ 0.01233307,  0.00024596]])"
      ]
     },
     "execution_count": 9,
     "metadata": {},
     "output_type": "execute_result"
    }
   ],
   "source": [
    "df_rets = d_data['close'].copy()\n",
    "df_rets = df_rets.fillna(method='ffill')\n",
    "df_rets = df_rets.fillna(method='bfill')\n",
    "\n",
    "na_rets = df_rets.values\n",
    "tsu.returnize0(na_rets)"
   ]
  },
  {
   "cell_type": "code",
   "execution_count": 15,
   "metadata": {
    "collapsed": false
   },
   "outputs": [],
   "source": [
    "## assumes daily rebalancing\n",
    "na_portrets = np.sum(na_rets * lf_port_alloc, axis=1)\n",
    "na_port_total = np.cumprod(na_portrets + 1)\n",
    "na_component_total = np.cumprod(na_rets + 1, axis=0)\n"
   ]
  },
  {
   "cell_type": "code",
   "execution_count": 19,
   "metadata": {
    "collapsed": false
   },
   "outputs": [
    {
     "data": {
      "text/plain": [
       "<matplotlib.figure.Figure at 0x118463910>"
      ]
     },
     "metadata": {},
     "output_type": "display_data"
    },
    {
     "data": {
      "text/plain": [
       "<matplotlib.figure.Figure at 0x1184638d0>"
      ]
     },
     "metadata": {},
     "output_type": "display_data"
    },
    {
     "data": {
      "text/plain": [
       "<matplotlib.figure.Figure at 0x11b9eda10>"
      ]
     },
     "metadata": {},
     "output_type": "display_data"
    },
    {
     "data": {
      "text/plain": [
       "<matplotlib.figure.Figure at 0x1184c7150>"
      ]
     },
     "metadata": {},
     "output_type": "display_data"
    },
    {
     "data": {
      "image/png": "[encoded data removed]",
      "text/plain": [
       "<matplotlib.figure.Figure at 0x11baaf690>"
      ]
     },
     "metadata": {},
     "output_type": "display_data"
    }
   ],
   "source": [
    "datetimes = [d.to_pydatetime() for d in ldt_timestamps]\n",
    "\n",
    "plt.clf()\n",
    "fig = plt.figure()\n",
    "fig.add_subplot(111)\n",
    "plt.plot(datetimes, na_component_total, alpha=0.4)\n",
    "plt.plot(datetimes, na_port_total)\n",
    "ls_names = ls_port_syms\n",
    "ls_names.append('Portfolio')\n",
    "plt.legend(ls_names)\n",
    "plt.ylabel('Cumulative Returns')\n",
    "plt.xlabel('Date')\n",
    "fig.autofmt_xdate(rotation=45)\n",
    "plt.savefig('tutorial3.pdf', format='pdf')\n",
    "plt.show()"
   ]
  },
  {
   "cell_type": "code",
   "execution_count": 21,
   "metadata": {
    "collapsed": false
   },
   "outputs": [
    {
     "data": {
      "text/plain": [
       "array([  0.00000000e+00,   2.37380774e-03,  -8.90121618e-03,\n",
       "        -1.52475977e-03,   2.26638726e-03,   2.35505181e-03,\n",
       "         7.86145179e-03,  -1.29998319e-03,   5.66932807e-03,\n",
       "        -1.17838017e-02,  -6.99367143e-03,  -8.45024842e-03,\n",
       "         1.08644110e-04,  -4.90493314e-04,   6.27105563e-03,\n",
       "         1.00067954e-02,  -3.60560714e-03,   9.78801227e-03,\n",
       "        -4.77908670e-04,   7.67999448e-04,   3.33658765e-03,\n",
       "        -1.91467838e-03,  -4.61090521e-03,  -1.28260247e-02,\n",
       "         1.94142202e-03,   5.01365272e-03,   1.92358491e-03,\n",
       "         2.62079500e-03,  -3.78998311e-03,   3.44034062e-03,\n",
       "        -1.74816477e-03,  -1.94572331e-03,   9.02936414e-03,\n",
       "         6.33614506e-03,  -2.46096691e-03,   2.28101000e-03,\n",
       "         1.69655268e-03,   5.38984125e-03,   3.11633039e-03,\n",
       "         9.02047645e-04,  -6.08888069e-03,   2.59330292e-03,\n",
       "        -7.51371075e-03,   9.91088151e-03,  -9.96517742e-03,\n",
       "        -4.36247768e-03,  -4.64390369e-03,   1.11714990e-02,\n",
       "         3.84093763e-04,   4.76417209e-03,  -3.51971362e-03,\n",
       "        -1.62278112e-03,   4.38556439e-03,  -1.81918488e-02,\n",
       "        -4.53828055e-03,   6.63248033e-03,   9.04855314e-03,\n",
       "        -2.04275450e-04,  -2.04596510e-03,  -7.93188435e-03,\n",
       "        -3.75418255e-03,  -1.23638093e-03,   8.51546361e-03,\n",
       "         1.27049465e-03,   2.45016388e-03,   3.20166677e-03,\n",
       "        -3.00901310e-03,   4.28799084e-03,  -1.28058674e-03,\n",
       "        -7.36122547e-03,  -1.63069744e-03,   2.50059635e-03,\n",
       "         1.34028189e-02,  -1.85307057e-03,  -3.15833422e-03,\n",
       "        -1.05939753e-03,  -1.25676947e-03,  -3.96421511e-03,\n",
       "        -5.41750128e-03,   2.94120979e-03,   1.51415165e-03,\n",
       "        -7.62752811e-03,   1.17118399e-03,  -3.00534318e-03,\n",
       "         2.94259608e-03,   4.55991465e-03,   3.85552577e-03,\n",
       "        -8.15188734e-03,   4.18953311e-03,   5.43648055e-05,\n",
       "         1.89488689e-03,  -5.47125941e-03,  -6.16061077e-05,\n",
       "         1.01057625e-02,   7.51700935e-03,   1.77961318e-03,\n",
       "         2.64168166e-03,  -1.57779236e-03,  -3.15010131e-03,\n",
       "        -3.18847166e-03,  -3.93728966e-03,   6.54457186e-04,\n",
       "        -7.34713272e-03,   4.00804354e-03,  -1.35283148e-03,\n",
       "        -5.42767876e-03,  -9.60154362e-04,   5.30898262e-03,\n",
       "        -5.00881024e-04,  -2.88367766e-03,  -9.80486924e-03,\n",
       "         7.23636738e-04,  -3.74656313e-03,   4.60477625e-03,\n",
       "         4.29275537e-03,  -6.14469998e-04,   6.19547786e-04,\n",
       "         8.41553162e-04,  -3.04872391e-03,  -6.57026617e-03,\n",
       "         7.14244321e-04,   1.24384127e-03,   2.79162004e-03,\n",
       "         1.22148932e-03,   8.17670713e-04,   5.07746295e-03,\n",
       "        -3.49977912e-03,  -3.26430130e-03,  -5.77387767e-03,\n",
       "         4.12508268e-03,  -3.67282935e-03,   7.88267850e-03,\n",
       "         1.74443165e-03,  -3.44899184e-04,  -3.43377363e-03,\n",
       "         1.98079730e-03,   2.29693905e-03,   1.71417201e-03,\n",
       "         3.18158733e-03,  -3.08561609e-03,  -6.41719881e-03,\n",
       "        -3.68442338e-03,   1.10466355e-03,  -4.28241619e-03,\n",
       "         2.67426664e-03,   1.82245821e-03,  -2.10237323e-03,\n",
       "        -3.29095612e-03,  -7.55250441e-03,   1.06765611e-03,\n",
       "         3.27135830e-03,  -6.35149715e-03,  -2.19114363e-04,\n",
       "        -8.62849369e-03,  -5.37103351e-03,   2.06151628e-03,\n",
       "        -5.84857962e-03,  -5.04432778e-03,   4.17343806e-04,\n",
       "         2.93257981e-03,   5.12529484e-06,   8.90438684e-03,\n",
       "        -8.82355982e-05,  -6.63540967e-03,   1.98401616e-03,\n",
       "         3.39522231e-03,   6.67039969e-03,  -4.94343586e-03,\n",
       "        -1.10871990e-02,  -1.42876017e-03,  -1.09444321e-02,\n",
       "         3.20348488e-03,   5.74946006e-03,  -1.79172182e-02,\n",
       "        -7.68705158e-03,  -2.63530618e-04,   1.15151250e-02,\n",
       "        -6.30547557e-03,   2.04019767e-03,   2.03977460e-02,\n",
       "        -4.26257597e-04,   2.34316695e-02,   4.35491518e-03,\n",
       "        -9.70149849e-03,  -4.51255311e-03,   3.78454579e-03,\n",
       "         8.20227356e-04,  -1.33582338e-02,  -2.65561071e-03,\n",
       "         3.34139233e-03,  -2.35858273e-02,  -3.10664740e-03,\n",
       "        -9.12543051e-03,  -2.81051391e-03,  -1.53666438e-04,\n",
       "        -1.93484359e-02,  -2.95762831e-02,   3.91550892e-02,\n",
       "        -3.67345441e-03,  -2.54980466e-02,  -1.99104498e-03,\n",
       "        -9.63150329e-03,   2.30109152e-02,  -1.83883548e-02,\n",
       "        -3.33653096e-02,  -9.68591838e-04,  -8.60009889e-03,\n",
       "        -1.07671574e-02,   4.17610504e-02,  -1.32239163e-03,\n",
       "         5.13909441e-03,  -4.00461059e-03,  -1.39589308e-04,\n",
       "         2.86866836e-02,  -2.32633764e-02,  -1.90231073e-02,\n",
       "         1.10728090e-02,   5.35218127e-04,  -1.55038431e-02,\n",
       "        -2.17407910e-02,   2.79336226e-02,  -1.02094146e-02,\n",
       "        -6.62390504e-03,   5.06796401e-03,  -2.02632028e-02,\n",
       "        -1.73141113e-02,   3.82383944e-02,   2.86087781e-02,\n",
       "         2.06093041e-03,   9.79053644e-03,   3.52468943e-03,\n",
       "        -4.40103037e-02,   1.67135066e-02,   4.21506782e-03,\n",
       "        -9.61407037e-03,   5.37061052e-03,   1.72236909e-02,\n",
       "        -4.43539523e-03,   1.54681736e-02,  -3.83943819e-03,\n",
       "         4.20474088e-03,   2.45984787e-03,   2.08548582e-02,\n",
       "         5.54701168e-04,  -1.10666842e-02,  -5.74120316e-03,\n",
       "        -8.48133141e-04,  -6.08347768e-03,   4.76607496e-03,\n",
       "         9.43476976e-03,   1.74387518e-03,   5.57153078e-03,\n",
       "         6.42626205e-03,   8.03788945e-03,  -6.43399069e-03,\n",
       "         4.31515922e-03,  -1.73583007e-02,   7.40407305e-03,\n",
       "        -8.34084185e-03,  -1.85088789e-02,   1.00002072e-03,\n",
       "        -1.34848763e-02,   2.37016408e-03,   1.10179003e-02,\n",
       "        -9.29791742e-03,   1.16469571e-02,  -3.09240556e-03,\n",
       "         1.53304515e-02,   3.47195156e-03,   1.11058937e-03,\n",
       "         6.88957708e-03,  -2.60469246e-03,  -5.07569693e-05,\n",
       "        -9.00737674e-03,   2.95235258e-03,   9.49608878e-04,\n",
       "         7.63457713e-03,   6.78323572e-03,  -3.84640306e-03,\n",
       "        -7.30203718e-03,   8.65666012e-03,   3.09114025e-03,\n",
       "        -5.22215742e-03,  -3.44905487e-03,   3.89932139e-03,\n",
       "        -6.78108036e-03,   3.44117699e-03,  -1.09215994e-02,\n",
       "         2.15230894e-03,  -7.36720572e-03,  -5.17979677e-03,\n",
       "        -8.09913295e-03,  -1.90216391e-02,  -5.16630058e-03,\n",
       "         3.60838674e-03,  -2.15882428e-03,   1.53876578e-03,\n",
       "        -9.13364501e-03,   9.82833603e-03,   5.63471786e-03,\n",
       "         1.81303874e-02,   2.99904256e-03,  -2.52963499e-03,\n",
       "         6.63636141e-03,   1.69018769e-02,   3.22644420e-04,\n",
       "        -8.80644092e-03,   1.67011871e-02,  -9.57915016e-03,\n",
       "         6.56369831e-03,   5.94658188e-03,  -9.45853297e-03,\n",
       "        -1.27069670e-02,   3.79374469e-03,   8.26841996e-03,\n",
       "         1.42684694e-03,  -1.10542646e-03,  -1.02934123e-02,\n",
       "        -1.81114886e-03,   2.79299027e-03,   1.08650079e-02,\n",
       "         5.53142300e-03,  -6.90701669e-03,   3.62298168e-03,\n",
       "        -1.37866895e-03,  -3.44237619e-05,  -6.51061317e-03,\n",
       "         5.68133545e-03,  -1.45705783e-04,   7.81828384e-03,\n",
       "         7.62921938e-03,  -5.20840864e-03,  -5.21289763e-03,\n",
       "         8.39523389e-03,  -3.52713441e-03,   5.42101639e-04,\n",
       "         1.60293411e-02,  -2.33784696e-03,   9.56254116e-03,\n",
       "        -4.48969109e-03,   8.79781231e-03,  -6.55928801e-03,\n",
       "         2.46931818e-03,  -6.24948394e-03,   2.35635017e-03,\n",
       "        -7.11674593e-04,   4.62260607e-03,   1.60741655e-03,\n",
       "         2.25905209e-03,   9.03440038e-04,   3.15353742e-04,\n",
       "         6.42572097e-03,  -6.33780640e-03,   6.73391022e-03,\n",
       "         1.15370153e-02,   5.80849361e-03,   2.20991372e-03,\n",
       "        -9.87143263e-03,   8.61058248e-03,  -7.78868665e-03,\n",
       "        -1.72851805e-03,   2.39031709e-03,  -6.45654910e-04,\n",
       "         8.06464459e-04,  -4.05752270e-03,  -1.03603514e-02,\n",
       "        -1.35281063e-03,   1.09212123e-03,  -2.08776270e-04,\n",
       "         2.05656150e-03,  -1.34344394e-02,   1.47228117e-03,\n",
       "         4.34050629e-03,   9.36820465e-03,  -8.57282253e-04,\n",
       "         1.98494966e-03,  -5.23269470e-03,   5.22308674e-03,\n",
       "        -1.18785207e-02,  -1.64627802e-03,  -5.99360049e-03,\n",
       "        -4.94254519e-03,   1.38325713e-03,  -4.84900094e-04,\n",
       "         9.32739647e-03,   3.78746268e-03,   1.34756084e-02,\n",
       "        -1.32181065e-03,   3.14148626e-03,   7.57299788e-03,\n",
       "         9.18048334e-04,   9.32225115e-04,   6.02826390e-03,\n",
       "         1.71682261e-03,   1.86925238e-03,  -6.54123539e-03,\n",
       "        -3.70914908e-03,   4.53263489e-03,   6.08261912e-03,\n",
       "         6.61495064e-03,   3.37824341e-03,  -5.65125602e-04,\n",
       "        -2.11776075e-03,   1.24219781e-03,  -3.25089387e-03,\n",
       "        -4.18978175e-03,   3.72976546e-03,   4.78249041e-03,\n",
       "        -4.61579329e-03,  -1.18485378e-02,   3.86124864e-03,\n",
       "         4.15644993e-03,   2.23509244e-03,   1.03919734e-02,\n",
       "        -4.22728039e-03,   1.94985829e-03,   1.27771741e-04,\n",
       "         1.93886699e-03,   2.12772020e-03,  -4.17160804e-03,\n",
       "        -4.98843173e-03,   6.17669304e-03,   6.43946195e-03,\n",
       "         4.43860587e-03,   2.27191139e-03,   1.20250045e-03,\n",
       "         5.00463083e-03,   3.25573564e-03,  -1.03715837e-03,\n",
       "         4.14416757e-03,   7.59415405e-03,  -2.15489023e-03,\n",
       "        -1.84575184e-03,  -1.68210783e-03,   5.74523031e-03,\n",
       "        -5.03448624e-03,  -7.18575749e-03,  -3.28478644e-03,\n",
       "         5.50422634e-03,   2.83827745e-04,   3.21084914e-03,\n",
       "        -1.03581938e-02,   6.07170023e-05,   8.91946192e-03,\n",
       "         1.16725193e-02,   1.07247169e-03,   6.04905865e-03,\n",
       "        -4.79759173e-04,   3.27762871e-03,   1.41215479e-03,\n",
       "         4.91081702e-03,  -2.70358781e-03,  -1.28251998e-03,\n",
       "         5.51716175e-03,  -3.91290285e-03,  -1.73111768e-03,\n",
       "         3.52511040e-03,  -4.64878986e-03,  -7.99644104e-03,\n",
       "        -1.38785366e-03,  -8.96494392e-03,   1.22776214e-02,\n",
       "        -9.16994263e-03,   6.34978064e-03,   8.21229287e-03,\n",
       "         2.55764218e-03,   5.20047558e-03,   2.03008838e-03,\n",
       "         8.95924773e-03,   6.12205746e-04,   4.87580849e-03,\n",
       "        -6.84286460e-03,   5.86321749e-03,   9.51541901e-03,\n",
       "         1.25438394e-03,   5.80068645e-04,  -3.78163372e-03,\n",
       "         6.46080260e-04,   7.39403361e-03,   1.61075392e-03,\n",
       "         5.99447004e-03,  -8.88831758e-03,   2.52070636e-03,\n",
       "         8.24713845e-03,   4.45862603e-03,  -3.56353465e-03,\n",
       "        -1.07944477e-02,  -2.14293161e-03,  -9.06132073e-03,\n",
       "         8.25840647e-04,   1.63883785e-03,  -2.77663670e-03,\n",
       "         4.57034658e-03,  -1.49260804e-03,   4.21010842e-03,\n",
       "        -1.50211128e-02,   6.19026517e-03,  -2.45839088e-03,\n",
       "        -1.08790072e-03,   1.66391365e-03,   6.49859264e-03,\n",
       "         1.16812380e-03,  -3.40266586e-03,  -1.61898386e-03,\n",
       "        -1.80830066e-03,   1.20329923e-02,   5.30322666e-04,\n",
       "         5.17093937e-03,  -5.86085410e-04,   2.47881853e-03,\n",
       "         4.39782022e-03,  -9.06553124e-03,   5.39260745e-03,\n",
       "         2.11236094e-03,  -6.49374535e-03,   5.54398085e-03,\n",
       "        -9.99695000e-03,  -1.00858192e-02,  -7.24922040e-03,\n",
       "         2.39164455e-03,  -1.03540393e-03,  -1.43644637e-03,\n",
       "        -3.57166422e-03,  -4.73316392e-03,   1.14158277e-02,\n",
       "         5.81644886e-03,  -2.68975717e-03,  -2.12136412e-02,\n",
       "         1.51059065e-03,  -3.98332726e-03,   7.71634252e-03,\n",
       "        -1.41105740e-03,   8.87597308e-03,  -5.13379601e-04,\n",
       "         1.19393320e-02,   4.18162695e-04,   3.77028784e-03,\n",
       "        -7.68285503e-04,  -1.03968296e-03,  -6.88969015e-03,\n",
       "         1.30008293e-03,   2.22961061e-03,   3.30082588e-03,\n",
       "         3.11909275e-03,   5.17279585e-03,   1.92822858e-03,\n",
       "        -1.22722696e-03,   4.21086971e-03,  -2.46285317e-03,\n",
       "         5.78011980e-05,  -2.07348355e-03,   1.61591939e-03,\n",
       "        -1.76838163e-03,   1.22100470e-03,   8.04044553e-03,\n",
       "        -4.20831623e-04,   1.89222045e-03,  -8.33741124e-03,\n",
       "         1.29057710e-04,   3.68773428e-03,  -7.03877142e-03,\n",
       "         8.70915737e-04,   4.89679684e-03,   2.35440181e-03,\n",
       "        -1.96437476e-03,   1.70657354e-03,   5.67371879e-03,\n",
       "         4.13971903e-03,   1.09266175e-03,   2.23029267e-03,\n",
       "         1.46137038e-03,   4.61938784e-03,  -1.19037498e-03,\n",
       "        -6.39692162e-04,   4.31184676e-03,   1.90469300e-03,\n",
       "        -1.11251855e-02,   8.88463630e-04,   3.50989677e-03,\n",
       "         1.74231455e-03,  -3.70651449e-04,   5.59322202e-03,\n",
       "        -2.30039635e-03,  -2.11353231e-03,   1.44187626e-03,\n",
       "         3.65647073e-03,  -2.25709008e-03,   4.84732572e-03,\n",
       "        -9.27403068e-03,  -1.21560494e-03,  -1.10959551e-03,\n",
       "        -5.00557271e-03,   1.14323044e-02,   7.01964401e-03,\n",
       "         6.04194126e-03,  -5.79202909e-03,  -5.91404996e-03,\n",
       "        -2.35181264e-03,  -3.75151600e-03,  -8.91252239e-03,\n",
       "        -1.33554732e-02,   2.77432545e-03,   3.90312425e-04,\n",
       "         1.62667612e-03,   1.03177342e-03,   1.06069130e-02,\n",
       "        -3.29031125e-03,  -2.45385547e-03,   7.50109726e-03,\n",
       "        -3.53378640e-03,  -7.42301724e-03,   2.05561236e-03,\n",
       "         2.00494755e-03,  -2.68132742e-03,   4.80777512e-03,\n",
       "         4.08971372e-03,  -1.51160231e-03,   1.03113214e-02,\n",
       "        -1.72061110e-03,   4.39100521e-03,   2.59676960e-03,\n",
       "        -6.79861727e-03,  -2.32352158e-03,  -2.17631983e-03,\n",
       "        -4.08180131e-03,   4.86185205e-03,  -5.03719399e-03,\n",
       "        -8.82551008e-03,  -1.83487964e-03,  -1.27720995e-02,\n",
       "         2.10475600e-03,  -3.05609434e-03,   1.25894630e-02,\n",
       "         1.64960535e-03,   5.15982468e-03,  -2.38268896e-03,\n",
       "         7.14975459e-03,  -1.80576560e-04,  -9.20122315e-05,\n",
       "        -1.22212796e-02,  -6.59089646e-04,   5.70557229e-03,\n",
       "        -5.94680607e-03,   9.29963119e-03,   6.50095955e-04,\n",
       "         1.64050625e-03,  -5.24788937e-03,  -1.21954064e-03,\n",
       "        -1.21602930e-04,   3.09320872e-03,   6.90361807e-03,\n",
       "        -2.72815177e-04,   3.89329262e-03,   3.63950199e-04,\n",
       "         9.87006223e-04,   4.64784718e-04,  -7.61007236e-04,\n",
       "        -9.22516792e-03,   1.82607665e-03,  -9.67606439e-04,\n",
       "         2.35699097e-03,   3.74526302e-03,   1.71927819e-03,\n",
       "        -4.78500082e-03,  -2.03153490e-03,  -1.60862010e-03,\n",
       "        -3.01101482e-03,   3.67712278e-03,  -3.02419202e-03,\n",
       "         4.78691279e-03,  -4.60548815e-03,   2.90298581e-03,\n",
       "         8.00392319e-03,   4.27428909e-03,   2.85643621e-03,\n",
       "        -1.31392265e-03,   2.13371362e-03,  -1.42458357e-03,\n",
       "         1.91278415e-03,   3.06504517e-03,   5.75372057e-03,\n",
       "         9.43897326e-04,   1.58725194e-03,  -1.06062567e-04,\n",
       "         5.38225052e-03,   2.14004609e-03,  -1.02038226e-03,\n",
       "        -2.20152939e-03,   7.11592120e-03,  -1.36384906e-03,\n",
       "         3.73612534e-03,  -3.07502377e-04,  -9.89957581e-04,\n",
       "         3.62558810e-03,  -3.29839509e-03,   1.19478059e-02,\n",
       "         1.85121792e-03,  -3.65251193e-03,   4.65838869e-03,\n",
       "         1.72892737e-03,   1.57666506e-04,   7.13484680e-03,\n",
       "         3.61663511e-04,  -1.77350900e-03,   2.82550265e-03,\n",
       "        -1.32585358e-02,   5.71937463e-03,  -3.56697688e-03,\n",
       "         1.18140358e-03,   3.45674312e-03,   1.21159926e-04,\n",
       "        -3.95527526e-03,   4.01019907e-03,   3.39082936e-03,\n",
       "        -1.47853066e-03,   3.68281254e-03,  -8.86298414e-04,\n",
       "         1.59486905e-02,   1.89062751e-03,   2.52233932e-03,\n",
       "        -6.92564966e-03,   4.87770576e-03,  -2.27521511e-04,\n",
       "        -1.22040129e-02,  -3.26366981e-03,  -7.97250258e-03,\n",
       "        -1.19360138e-03,   8.35221797e-03,   1.07906008e-03,\n",
       "         2.64626978e-03,  -2.25500148e-03,   3.92195299e-03,\n",
       "        -5.88368838e-03,   1.81734089e-03,   2.59616128e-03,\n",
       "         6.28655102e-03,   3.45452246e-03,   7.17997689e-03,\n",
       "         1.93088698e-03,  -5.45137936e-03,  -2.67000161e-03,\n",
       "         2.47606978e-03,   1.82173375e-03,   1.61769959e-03,\n",
       "         5.61178929e-04,  -4.63173393e-03,  -2.53870039e-04,\n",
       "         1.19813308e-03,   2.75573016e-03,   2.37727293e-03,\n",
       "         3.38533546e-04,  -1.30885999e-03,   9.25122114e-04,\n",
       "         5.30654065e-03,   1.29245703e-03,  -1.94797516e-03,\n",
       "         3.77370851e-03])"
      ]
     },
     "execution_count": 21,
     "metadata": {},
     "output_type": "execute_result"
    }
   ],
   "source": [
    "na_portrets"
   ]
  },
  {
   "cell_type": "code",
   "execution_count": null,
   "metadata": {
    "collapsed": true
   },
   "outputs": [],
   "source": []
  }
 ],
 "metadata": {
  "kernelspec": {
   "display_name": "Python 2",
   "language": "python",
   "name": "python2"
  },
  "language_info": {
   "codemirror_mode": {
    "name": "ipython",
    "version": 2
   },
   "file_extension": ".py",
   "mimetype": "text/x-python",
   "name": "python",
   "nbconvert_exporter": "python",
   "pygments_lexer": "ipython2",
   "version": "2.7.13"
  }
 },
 "nbformat": 4,
 "nbformat_minor": 2
}
