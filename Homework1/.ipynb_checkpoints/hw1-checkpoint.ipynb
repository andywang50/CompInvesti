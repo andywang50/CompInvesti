{
 "cells": [
  {
   "cell_type": "code",
   "execution_count": 1,
   "metadata": {
    "collapsed": false
   },
   "outputs": [],
   "source": [
    "import numpy as np\n",
    "import pandas as pd\n",
    "import QSTK.qstkutil.qsdateutil as du\n",
    "import QSTK.qstkutil.tsutil as tsu\n",
    "import QSTK.qstkutil.DataAccess as da\n",
    "\n",
    "import datetime as dt\n",
    "import matplotlib.pyplot as plt\n"
   ]
  },
  {
   "cell_type": "code",
   "execution_count": 2,
   "metadata": {
    "collapsed": false
   },
   "outputs": [],
   "source": [
    "ls_symbols = [\"AAPL\", \"GLD\", \"GOOG\", \"XOM\"]\n",
    "dt_start = dt.datetime(2011, 1, 1)\n",
    "dt_end = dt.datetime(2011, 12, 31)\n",
    "dt_timeofday = dt.timedelta(hours=16) # time duration\n",
    "ldt_timestamps = du.getNYSEdays(dt_start, dt_end, dt_timeofday)  # the days that NYSE is open\n",
    "datetimes = [d.to_pydatetime() for d in ldt_timestamps]\n",
    "\n",
    "c_dataobj = da.DataAccess('Yahoo')\n",
    "ls_keys = ['open', 'high', 'low', 'close', 'volume', 'actual_close']\n",
    "ldf_data = c_dataobj.get_data(ldt_timestamps, ls_symbols, ls_keys)\n",
    "d_data = dict(zip(ls_keys, ldf_data))"
   ]
  },
  {
   "cell_type": "code",
   "execution_count": 3,
   "metadata": {
    "collapsed": true
   },
   "outputs": [],
   "source": [
    "def simulate(startdate,enddate,symbols,allocations):\n",
    "    dt_timeofday = dt.timedelta(hours=16) # time duration\n",
    "    ldt_timestamps = du.getNYSEdays(dt_start, dt_end, dt_timeofday)  # the days that NYSE is open\n",
    "    datetimes = [d.to_pydatetime() for d in ldt_timestamps]\n",
    "    c_dataobj = da.DataAccess('Yahoo')\n",
    "    ls_keys = ['open', 'high', 'low', 'close', 'volume', 'actual_close']\n",
    "    ldf_data = c_dataobj.get_data(ldt_timestamps, ls_symbols, ls_keys)\n",
    "    d_data = dict(zip(ls_keys, ldf_data))\n",
    "    df_close = d_data['close'].copy().fillna(method='ffill')\n",
    "    df_close = df_close.fillna(method='bfill')\n",
    "    na_price = df_close.values\n",
    "    allocation = [0.4,0.4,0.0,0.2]\n",
    "    na_rets = tsu.returnize0(na_price)\n",
    "    na_cum_rets = np.cumprod(1+na_rets,axis=0)\n",
    "    port_cum_rets = np.sum(na_cum_rets * allocation,axis=1)\n",
    "    port_daily_rets = tsu.returnize0(port_cum_rets.copy())\n",
    "    vol = np.std(port_daily_rets)\n",
    "    avg_daily_ret = np.mean(port_daily_rets)\n",
    "    sharpe = avg_daily_ret / vol * np.sqrt(252)\n",
    "    cum_return = port_cum_rets[-1]\n",
    "    return sharpe,vol,avg_daily_ret,cum_return"
   ]
  },
  {
   "cell_type": "code",
   "execution_count": 5,
   "metadata": {
    "collapsed": false
   },
   "outputs": [
    {
     "name": "stdout",
     "output_type": "stream",
     "text": [
      "sharpe ratio =  1.02828403099\n",
      "vol =  0.0101467067654\n",
      "daily average return =  0.000657261102001\n",
      "cum_ret =  0.164872619645\n"
     ]
    }
   ],
   "source": [
    "allocation = [0.2,0.2,0.4,0.2]\n",
    "sharpe,vol,avg_daily_ret,cum_ret = simulate(dt_start,dt_end,ls_keys,allocation)\n",
    "print 'sharpe ratio = ', sharpe\n",
    "print 'vol = ', vol\n",
    "print 'daily average return = ', avg_daily_ret\n",
    "print 'cum_ret = ', cum_ret - 1"
   ]
  },
  {
   "cell_type": "code",
   "execution_count": null,
   "metadata": {
    "collapsed": true
   },
   "outputs": [],
   "source": []
  }
 ],
 "metadata": {
  "kernelspec": {
   "display_name": "Python 2",
   "language": "python",
   "name": "python2"
  },
  "language_info": {
   "codemirror_mode": {
    "name": "ipython",
    "version": 2
   },
   "file_extension": ".py",
   "mimetype": "text/x-python",
   "name": "python",
   "nbconvert_exporter": "python",
   "pygments_lexer": "ipython2",
   "version": "2.7.13"
  }
 },
 "nbformat": 4,
 "nbformat_minor": 2
}
